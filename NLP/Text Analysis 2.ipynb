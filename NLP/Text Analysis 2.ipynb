{
 "cells": [
  {
   "cell_type": "markdown",
   "metadata": {},
   "source": [
    "# Text Analysis - with Pipeline Cross Validation \n",
    "\n",
    "For this demo, we’ll create four different pipelines using TF-IDF and CountVectorizer for vectorization and SGDClassifier and SVC (support vector classifier). Then using cross_val_score function, we’ll train the each model two times and record their mean accuracy. We’ll choose the highest performing model and train it and then evaluate it in the test set."
   ]
  },
  {
   "cell_type": "code",
   "execution_count": 1,
   "metadata": {},
   "outputs": [
    {
     "name": "stdout",
     "output_type": "stream",
     "text": [
      "done\n"
     ]
    }
   ],
   "source": [
    "import numpy as np\n",
    "import matplotlib.pyplot as plt\n",
    "from sklearn.datasets import load_files\n",
    "from sklearn.model_selection import train_test_split\n",
    "from sklearn.feature_extraction.text import TfidfVectorizer\n",
    "from sklearn.naive_bayes import MultinomialNB\n",
    "from sklearn.metrics import classification_report, accuracy_score\n",
    "from sklearn.linear_model import SGDClassifier\n",
    "from sklearn.svm import SVC\n",
    "from sklearn.pipeline import Pipeline\n",
    "from sklearn.feature_extraction.text import TfidfVectorizer, CountVectorizer\n",
    "from sklearn.model_selection import cross_val_score\n",
    "DATA_DIR = \"./bbc/\"\n",
    "\n",
    "print('done')"
   ]
  },
  {
   "cell_type": "markdown",
   "metadata": {},
   "source": [
    "## Get and set up our data "
   ]
  },
  {
   "cell_type": "code",
   "execution_count": 2,
   "metadata": {},
   "outputs": [
    {
     "name": "stdout",
     "output_type": "stream",
     "text": [
      "{'business': 510, 'entertainment': 386, 'politics': 417, 'sport': 511, 'tech': 401}\n"
     ]
    },
    {
     "data": {
      "text/plain": [
       "<1668x1000 sparse matrix of type '<class 'numpy.float64'>'\n",
       "\twith 112802 stored elements in Compressed Sparse Row format>"
      ]
     },
     "execution_count": 2,
     "metadata": {},
     "output_type": "execute_result"
    }
   ],
   "source": [
    "data = load_files(DATA_DIR, encoding=\"utf-8\", decode_error=\"replace\")\n",
    "# calculate count of each category\n",
    "labels, counts = np.unique(data.target, return_counts=True)\n",
    "\n",
    "# convert data.target_names to np array for fancy indexing\n",
    "labels_str = np.array(data.target_names)[labels]\n",
    "print(dict(zip(labels_str, counts)))\n",
    "\n",
    "X_train, X_test, y_train, y_test = train_test_split(data.data, data.target)\n",
    "list(t[:80] for t in X_train[:10])\n",
    "\n",
    "#vectorize the data\n",
    "vectorizer = TfidfVectorizer(stop_words=\"english\", max_features=1000, decode_error=\"ignore\")\n",
    "vectorizer.fit(X_train)\n",
    "\n",
    "vectorizer.fit(X_train)\n",
    "X_train_vectorized = vectorizer.transform(X_train)\n",
    "X_train_vectorized"
   ]
  },
  {
   "cell_type": "markdown",
   "metadata": {},
   "source": [
    "## Build the starting pipeline"
   ]
  },
  {
   "cell_type": "code",
   "execution_count": 3,
   "metadata": {},
   "outputs": [
    {
     "data": {
      "text/plain": [
       "(Pipeline(memory=None,\n",
       "          steps=[('count vectorizer',\n",
       "                  CountVectorizer(analyzer='word', binary=False,\n",
       "                                  decode_error='strict',\n",
       "                                  dtype=<class 'numpy.int64'>, encoding='utf-8',\n",
       "                                  input='content', lowercase=True, max_df=1.0,\n",
       "                                  max_features=3000, min_df=1,\n",
       "                                  ngram_range=(1, 1), preprocessor=None,\n",
       "                                  stop_words='english', strip_accents=None,\n",
       "                                  token_pattern='(?u)\\\\b\\\\w\\\\w+\\\\b',\n",
       "                                  tokenizer=Non...\n",
       "                  SGDClassifier(alpha=0.0001, average=False, class_weight=None,\n",
       "                                early_stopping=False, epsilon=0.1, eta0=0.0,\n",
       "                                fit_intercept=True, l1_ratio=0.15,\n",
       "                                learning_rate='optimal', loss='modified_huber',\n",
       "                                max_iter=1000, n_iter_no_change=5, n_jobs=None,\n",
       "                                penalty='l2', power_t=0.5, random_state=None,\n",
       "                                shuffle=True, tol=0.001, validation_fraction=0.1,\n",
       "                                verbose=0, warm_start=False))],\n",
       "          verbose=False),\n",
       " sklearn.svm._classes.SVC,\n",
       " Pipeline(memory=None,\n",
       "          steps=[('tfidf_vectorizer',\n",
       "                  TfidfVectorizer(analyzer='word', binary=False,\n",
       "                                  decode_error='strict',\n",
       "                                  dtype=<class 'numpy.float64'>,\n",
       "                                  encoding='utf-8', input='content',\n",
       "                                  lowercase=True, max_df=1.0, max_features=3000,\n",
       "                                  min_df=1, ngram_range=(1, 1), norm='l2',\n",
       "                                  preprocessor=None, smooth_idf=True,\n",
       "                                  stop_words='english', strip_accents=None,\n",
       "                                  sublinear_tf=False,\n",
       "                                  token_pattern='(?u)\\\\b\\\\w\\\\w+\\\\b',\n",
       "                                  tokenizer=None, use_idf=True,\n",
       "                                  vocabulary=None)),\n",
       "                 ('linear svc',\n",
       "                  SVC(C=1.0, break_ties=False, cache_size=200, class_weight=None,\n",
       "                      coef0=0.0, decision_function_shape='ovr', degree=3,\n",
       "                      gamma='scale', kernel='linear', max_iter=-1,\n",
       "                      probability=False, random_state=None, shrinking=True,\n",
       "                      tol=0.001, verbose=False))],\n",
       "          verbose=False))"
      ]
     },
     "execution_count": 3,
     "metadata": {},
     "output_type": "execute_result"
    }
   ],
   "source": [
    "# start with the classic\n",
    "# with either pure counts or tfidf features\n",
    "sgd = Pipeline([\n",
    "        (\"count vectorizer\", CountVectorizer(stop_words=\"english\", max_features=3000)),\n",
    "        (\"sgd\", SGDClassifier(loss=\"modified_huber\"))\n",
    "    ])\n",
    "sgd_tfidf = Pipeline([\n",
    "        (\"tfidf_vectorizer\", TfidfVectorizer(stop_words=\"english\", max_features=3000)),\n",
    "        (\"sgd\", SGDClassifier(loss=\"modified_huber\"))\n",
    "    ])\n",
    " \n",
    "svc = Pipeline([\n",
    "        (\"count_vectorizer\", CountVectorizer(stop_words=\"english\", max_features=3000)),\n",
    "        (\"linear svc\", SVC(kernel=\"linear\"))\n",
    "    ])\n",
    "svc_tfidf = Pipeline([\n",
    "        (\"tfidf_vectorizer\", TfidfVectorizer(stop_words=\"english\", max_features=3000)),\n",
    "        (\"linear svc\", SVC(kernel=\"linear\"))\n",
    "    ])\n",
    "\n",
    "sgd, SVC, svc_tfidf"
   ]
  },
  {
   "cell_type": "markdown",
   "metadata": {},
   "source": [
    "## Configure all the pipelines "
   ]
  },
  {
   "cell_type": "code",
   "execution_count": 4,
   "metadata": {},
   "outputs": [
    {
     "data": {
      "text/plain": [
       "[('sgd',\n",
       "  Pipeline(memory=None,\n",
       "           steps=[('count vectorizer',\n",
       "                   CountVectorizer(analyzer='word', binary=False,\n",
       "                                   decode_error='strict',\n",
       "                                   dtype=<class 'numpy.int64'>, encoding='utf-8',\n",
       "                                   input='content', lowercase=True, max_df=1.0,\n",
       "                                   max_features=3000, min_df=1,\n",
       "                                   ngram_range=(1, 1), preprocessor=None,\n",
       "                                   stop_words='english', strip_accents=None,\n",
       "                                   token_pattern='(?u)\\\\b\\\\w\\\\w+\\\\b',\n",
       "                                   tokenizer=Non...\n",
       "                   SGDClassifier(alpha=0.0001, average=False, class_weight=None,\n",
       "                                 early_stopping=False, epsilon=0.1, eta0=0.0,\n",
       "                                 fit_intercept=True, l1_ratio=0.15,\n",
       "                                 learning_rate='optimal', loss='modified_huber',\n",
       "                                 max_iter=1000, n_iter_no_change=5, n_jobs=None,\n",
       "                                 penalty='l2', power_t=0.5, random_state=None,\n",
       "                                 shuffle=True, tol=0.001, validation_fraction=0.1,\n",
       "                                 verbose=0, warm_start=False))],\n",
       "           verbose=False)),\n",
       " ('sgd_tfidf',\n",
       "  Pipeline(memory=None,\n",
       "           steps=[('tfidf_vectorizer',\n",
       "                   TfidfVectorizer(analyzer='word', binary=False,\n",
       "                                   decode_error='strict',\n",
       "                                   dtype=<class 'numpy.float64'>,\n",
       "                                   encoding='utf-8', input='content',\n",
       "                                   lowercase=True, max_df=1.0, max_features=3000,\n",
       "                                   min_df=1, ngram_range=(1, 1), norm='l2',\n",
       "                                   preprocessor=None, smooth_idf=True,\n",
       "                                   stop_words='english', strip_accents=None,\n",
       "                                   sublinear_tf=False...\n",
       "                   SGDClassifier(alpha=0.0001, average=False, class_weight=None,\n",
       "                                 early_stopping=False, epsilon=0.1, eta0=0.0,\n",
       "                                 fit_intercept=True, l1_ratio=0.15,\n",
       "                                 learning_rate='optimal', loss='modified_huber',\n",
       "                                 max_iter=1000, n_iter_no_change=5, n_jobs=None,\n",
       "                                 penalty='l2', power_t=0.5, random_state=None,\n",
       "                                 shuffle=True, tol=0.001, validation_fraction=0.1,\n",
       "                                 verbose=0, warm_start=False))],\n",
       "           verbose=False)),\n",
       " ('svc',\n",
       "  Pipeline(memory=None,\n",
       "           steps=[('count_vectorizer',\n",
       "                   CountVectorizer(analyzer='word', binary=False,\n",
       "                                   decode_error='strict',\n",
       "                                   dtype=<class 'numpy.int64'>, encoding='utf-8',\n",
       "                                   input='content', lowercase=True, max_df=1.0,\n",
       "                                   max_features=3000, min_df=1,\n",
       "                                   ngram_range=(1, 1), preprocessor=None,\n",
       "                                   stop_words='english', strip_accents=None,\n",
       "                                   token_pattern='(?u)\\\\b\\\\w\\\\w+\\\\b',\n",
       "                                   tokenizer=None, vocabulary=None)),\n",
       "                  ('linear svc',\n",
       "                   SVC(C=1.0, break_ties=False, cache_size=200, class_weight=None,\n",
       "                       coef0=0.0, decision_function_shape='ovr', degree=3,\n",
       "                       gamma='scale', kernel='linear', max_iter=-1,\n",
       "                       probability=False, random_state=None, shrinking=True,\n",
       "                       tol=0.001, verbose=False))],\n",
       "           verbose=False)),\n",
       " ('svc_tfidf',\n",
       "  Pipeline(memory=None,\n",
       "           steps=[('tfidf_vectorizer',\n",
       "                   TfidfVectorizer(analyzer='word', binary=False,\n",
       "                                   decode_error='strict',\n",
       "                                   dtype=<class 'numpy.float64'>,\n",
       "                                   encoding='utf-8', input='content',\n",
       "                                   lowercase=True, max_df=1.0, max_features=3000,\n",
       "                                   min_df=1, ngram_range=(1, 1), norm='l2',\n",
       "                                   preprocessor=None, smooth_idf=True,\n",
       "                                   stop_words='english', strip_accents=None,\n",
       "                                   sublinear_tf=False,\n",
       "                                   token_pattern='(?u)\\\\b\\\\w\\\\w+\\\\b',\n",
       "                                   tokenizer=None, use_idf=True,\n",
       "                                   vocabulary=None)),\n",
       "                  ('linear svc',\n",
       "                   SVC(C=1.0, break_ties=False, cache_size=200, class_weight=None,\n",
       "                       coef0=0.0, decision_function_shape='ovr', degree=3,\n",
       "                       gamma='scale', kernel='linear', max_iter=-1,\n",
       "                       probability=False, random_state=None, shrinking=True,\n",
       "                       tol=0.001, verbose=False))],\n",
       "           verbose=False))]"
      ]
     },
     "execution_count": 4,
     "metadata": {},
     "output_type": "execute_result"
    }
   ],
   "source": [
    "all_models = [\n",
    "    (\"sgd\", sgd),\n",
    "    (\"sgd_tfidf\", sgd_tfidf),\n",
    "    (\"svc\", svc),\n",
    "    (\"svc_tfidf\", svc_tfidf),\n",
    "    ]\n",
    "all_models"
   ]
  },
  {
   "cell_type": "markdown",
   "metadata": {},
   "source": [
    "## set up the scores "
   ]
  },
  {
   "cell_type": "code",
   "execution_count": 5,
   "metadata": {},
   "outputs": [
    {
     "name": "stdout",
     "output_type": "stream",
     "text": [
      "[('svc_tfidf', 0.974220623501199), ('sgd_tfidf', 0.9610311750599521), ('svc', 0.959832134292566), ('sgd', 0.9568345323741008)]\n"
     ]
    }
   ],
   "source": [
    "unsorted_scores = [(name, cross_val_score(model, X_train, y_train, cv=2).mean()) for name, model in all_models]\n",
    "scores = sorted(unsorted_scores, key=lambda x: -x[1])\n",
    "print(scores)  "
   ]
  },
  {
   "cell_type": "markdown",
   "metadata": {},
   "source": [
    "## Identify the best of the best\n",
    "\n",
    "Support Vector Machine with tf-idf features scored the highest accuracy of 97%. Lets train it and evaluate it in the test dataset."
   ]
  },
  {
   "cell_type": "code",
   "execution_count": 6,
   "metadata": {},
   "outputs": [
    {
     "name": "stdout",
     "output_type": "stream",
     "text": [
      "0.9730700179533214\n",
      "              precision    recall  f1-score   support\n",
      "\n",
      "           0       0.97      0.95      0.96       138\n",
      "           1       0.98      0.97      0.97        94\n",
      "           2       0.96      0.97      0.97       104\n",
      "           3       0.99      0.99      0.99       131\n",
      "           4       0.96      0.99      0.97        90\n",
      "\n",
      "    accuracy                           0.97       557\n",
      "   macro avg       0.97      0.97      0.97       557\n",
      "weighted avg       0.97      0.97      0.97       557\n",
      "\n"
     ]
    }
   ],
   "source": [
    "model = svc_tfidf\n",
    "model.fit(X_train, y_train)\n",
    "y_pred = model.predict(X_test)\n",
    "print(accuracy_score(y_test, y_pred))\n",
    "print(classification_report(y_test, y_pred))"
   ]
  },
  {
   "cell_type": "code",
   "execution_count": null,
   "metadata": {},
   "outputs": [],
   "source": []
  }
 ],
 "metadata": {
  "kernelspec": {
   "display_name": "Python 3",
   "language": "python",
   "name": "python3"
  },
  "language_info": {
   "codemirror_mode": {
    "name": "ipython",
    "version": 3
   },
   "file_extension": ".py",
   "mimetype": "text/x-python",
   "name": "python",
   "nbconvert_exporter": "python",
   "pygments_lexer": "ipython3",
   "version": "3.7.6"
  }
 },
 "nbformat": 4,
 "nbformat_minor": 4
}
